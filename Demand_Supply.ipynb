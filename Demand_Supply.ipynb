{
 "cells": [
  {
   "cell_type": "code",
   "execution_count": 1,
   "id": "b1107841",
   "metadata": {},
   "outputs": [],
   "source": [
    "import pandas as pd\n",
    "import numpy as np\n",
    "import matplotlib.pyplot as plt\n",
    "from statsmodels.tsa.stattools import adfuller\n",
    "from statsmodels.tsa.arima.model import ARIMA\n",
    "from statsmodels.tsa.statespace.sarimax import SARIMAX\n",
    "%matplotlib inline"
   ]
  },
  {
   "cell_type": "markdown",
   "id": "492840c0",
   "metadata": {},
   "source": [
    "\n",
    "# Load the data"
   ]
  },
  {
   "cell_type": "code",
   "execution_count": 2,
   "id": "6f491548",
   "metadata": {},
   "outputs": [],
   "source": [
    "df = pd.read_excel(r\"C:\\Users\\Tridev\\Desktop\\demand.xlsx\" ,parse_dates=['date'], index_col='date')"
   ]
  },
  {
   "cell_type": "code",
   "execution_count": 3,
   "id": "c44565dd",
   "metadata": {},
   "outputs": [
    {
     "data": {
      "text/html": [
       "<div>\n",
       "<style scoped>\n",
       "    .dataframe tbody tr th:only-of-type {\n",
       "        vertical-align: middle;\n",
       "    }\n",
       "\n",
       "    .dataframe tbody tr th {\n",
       "        vertical-align: top;\n",
       "    }\n",
       "\n",
       "    .dataframe thead th {\n",
       "        text-align: right;\n",
       "    }\n",
       "</style>\n",
       "<table border=\"1\" class=\"dataframe\">\n",
       "  <thead>\n",
       "    <tr style=\"text-align: right;\">\n",
       "      <th></th>\n",
       "      <th>wheat_export</th>\n",
       "      <th>wheat_consumption</th>\n",
       "      <th>population_growth</th>\n",
       "      <th>income_level</th>\n",
       "    </tr>\n",
       "    <tr>\n",
       "      <th>date</th>\n",
       "      <th></th>\n",
       "      <th></th>\n",
       "      <th></th>\n",
       "      <th></th>\n",
       "    </tr>\n",
       "  </thead>\n",
       "  <tbody>\n",
       "    <tr>\n",
       "      <th>1960-01-01</th>\n",
       "      <td>0</td>\n",
       "      <td>14218</td>\n",
       "      <td>445954579</td>\n",
       "      <td>83</td>\n",
       "    </tr>\n",
       "    <tr>\n",
       "      <th>1961-01-01</th>\n",
       "      <td>0</td>\n",
       "      <td>13893</td>\n",
       "      <td>456351876</td>\n",
       "      <td>86</td>\n",
       "    </tr>\n",
       "    <tr>\n",
       "      <th>1962-01-01</th>\n",
       "      <td>0</td>\n",
       "      <td>14822</td>\n",
       "      <td>467024193</td>\n",
       "      <td>90</td>\n",
       "    </tr>\n",
       "    <tr>\n",
       "      <th>1963-01-01</th>\n",
       "      <td>0</td>\n",
       "      <td>16054</td>\n",
       "      <td>477933619</td>\n",
       "      <td>101</td>\n",
       "    </tr>\n",
       "    <tr>\n",
       "      <th>1964-01-01</th>\n",
       "      <td>0</td>\n",
       "      <td>16531</td>\n",
       "      <td>489059309</td>\n",
       "      <td>115</td>\n",
       "    </tr>\n",
       "    <tr>\n",
       "      <th>...</th>\n",
       "      <td>...</td>\n",
       "      <td>...</td>\n",
       "      <td>...</td>\n",
       "      <td>...</td>\n",
       "    </tr>\n",
       "    <tr>\n",
       "      <th>2018-01-01</th>\n",
       "      <td>496</td>\n",
       "      <td>95629</td>\n",
       "      <td>1369003306</td>\n",
       "      <td>1974</td>\n",
       "    </tr>\n",
       "    <tr>\n",
       "      <th>2019-01-01</th>\n",
       "      <td>509</td>\n",
       "      <td>95403</td>\n",
       "      <td>1383112050</td>\n",
       "      <td>2047</td>\n",
       "    </tr>\n",
       "    <tr>\n",
       "      <th>2020-01-01</th>\n",
       "      <td>2561</td>\n",
       "      <td>102217</td>\n",
       "      <td>1396387127</td>\n",
       "      <td>1910</td>\n",
       "    </tr>\n",
       "    <tr>\n",
       "      <th>2021-01-01</th>\n",
       "      <td>8033</td>\n",
       "      <td>109878</td>\n",
       "      <td>1407563842</td>\n",
       "      <td>2257</td>\n",
       "    </tr>\n",
       "    <tr>\n",
       "      <th>2022-01-01</th>\n",
       "      <td>6500</td>\n",
       "      <td>104500</td>\n",
       "      <td>1417173173</td>\n",
       "      <td>2312</td>\n",
       "    </tr>\n",
       "  </tbody>\n",
       "</table>\n",
       "<p>63 rows × 4 columns</p>\n",
       "</div>"
      ],
      "text/plain": [
       "            wheat_export  wheat_consumption  population_growth  income_level\n",
       "date                                                                        \n",
       "1960-01-01             0              14218          445954579            83\n",
       "1961-01-01             0              13893          456351876            86\n",
       "1962-01-01             0              14822          467024193            90\n",
       "1963-01-01             0              16054          477933619           101\n",
       "1964-01-01             0              16531          489059309           115\n",
       "...                  ...                ...                ...           ...\n",
       "2018-01-01           496              95629         1369003306          1974\n",
       "2019-01-01           509              95403         1383112050          2047\n",
       "2020-01-01          2561             102217         1396387127          1910\n",
       "2021-01-01          8033             109878         1407563842          2257\n",
       "2022-01-01          6500             104500         1417173173          2312\n",
       "\n",
       "[63 rows x 4 columns]"
      ]
     },
     "execution_count": 3,
     "metadata": {},
     "output_type": "execute_result"
    }
   ],
   "source": [
    "df"
   ]
  },
  {
   "cell_type": "markdown",
   "id": "d3ee7915",
   "metadata": {},
   "source": [
    "# Create time series plots"
   ]
  },
  {
   "cell_type": "code",
   "execution_count": 4,
   "id": "9ad762ea",
   "metadata": {},
   "outputs": [
    {
     "data": {
      "image/png": "[encoded data removed]",
      "text/plain": [
       "<Figure size 720x576 with 4 Axes>"
      ]
     },
     "metadata": {
      "needs_background": "light"
     },
     "output_type": "display_data"
    }
   ],
   "source": [
    "fig, axs = plt.subplots(4, figsize=(10, 8))\n",
    "axs[0].plot(df['wheat_export'])\n",
    "axs[0].set_title('Wheat Export')\n",
    "axs[1].plot(df['wheat_consumption'])\n",
    "axs[1].set_title('Wheat Consumption')\n",
    "axs[2].plot(df['population_growth'])\n",
    "axs[2].set_title('Population Growth')\n",
    "axs[3].plot(df['income_level'])\n",
    "axs[3].set_title('Income Level')\n",
    "plt.tight_layout()\n",
    "plt.show()"
   ]
  },
  {
   "cell_type": "markdown",
   "id": "4584c254",
   "metadata": {},
   "source": [
    "\n",
    "# Test for stationarity"
   ]
  },
  {
   "cell_type": "code",
   "execution_count": 5,
   "id": "a0e30016",
   "metadata": {},
   "outputs": [],
   "source": [
    "def adf_test(series):\n",
    "    result = adfuller(series)\n",
    "    print(f'ADF Statistic: {result[0]}')\n",
    "    print(f'p-value: {result[1]}')\n",
    "    print('Critical Values:')\n",
    "    for key, value in result[4].items():\n",
    "        print(f'   {key}: {value}')"
   ]
  },
  {
   "cell_type": "code",
   "execution_count": 6,
   "id": "9c2fac6a",
   "metadata": {},
   "outputs": [
    {
     "name": "stdout",
     "output_type": "stream",
     "text": [
      "ADF Statistic: 0.23910932312210934\n",
      "p-value: 0.9743717592282244\n",
      "Critical Values:\n",
      "   1%: -3.562878534649522\n",
      "   5%: -2.918973284023669\n",
      "   10%: -2.597393446745562\n",
      "ADF Statistic: 1.2390777882364745\n",
      "p-value: 0.9962450596242626\n",
      "Critical Values:\n",
      "   1%: -3.5463945337644063\n",
      "   5%: -2.911939409384601\n",
      "   10%: -2.5936515282964665\n",
      "ADF Statistic: -3.4755305261262337\n",
      "p-value: 0.008638215020536924\n",
      "Critical Values:\n",
      "   1%: -3.562878534649522\n",
      "   5%: -2.918973284023669\n",
      "   10%: -2.597393446745562\n",
      "ADF Statistic: 1.6983851799484542\n",
      "p-value: 0.998124669874154\n",
      "Critical Values:\n",
      "   1%: -3.560242358792829\n",
      "   5%: -2.9178502070837\n",
      "   10%: -2.5967964150943397\n"
     ]
    }
   ],
   "source": [
    "adf_test(df['wheat_export'])\n",
    "adf_test(df['wheat_consumption'])\n",
    "adf_test(df['population_growth'])\n",
    "adf_test(df['income_level'])"
   ]
  },
  {
   "cell_type": "markdown",
   "id": "9882e7fa",
   "metadata": {},
   "source": [
    "# Perform differencing"
   ]
  },
  {
   "cell_type": "code",
   "execution_count": 7,
   "id": "017a90c1",
   "metadata": {},
   "outputs": [],
   "source": [
    "df_diff = df.diff().dropna()"
   ]
  },
  {
   "cell_type": "code",
   "execution_count": 8,
   "id": "5dd0ef93",
   "metadata": {},
   "outputs": [
    {
     "name": "stdout",
     "output_type": "stream",
     "text": [
      "ADF Statistic: -4.609318565973733\n",
      "p-value: 0.00012415643676749155\n",
      "Critical Values:\n",
      "   1%: -3.562878534649522\n",
      "   5%: -2.918973284023669\n",
      "   10%: -2.597393446745562\n",
      "ADF Statistic: -7.1067112814589075\n",
      "p-value: 4.036051195572659e-10\n",
      "Critical Values:\n",
      "   1%: -3.5463945337644063\n",
      "   5%: -2.911939409384601\n",
      "   10%: -2.5936515282964665\n",
      "ADF Statistic: -0.18423652680131355\n",
      "p-value: 0.9403746828864836\n",
      "Critical Values:\n",
      "   1%: -3.568485864\n",
      "   5%: -2.92135992\n",
      "   10%: -2.5986616\n"
     ]
    }
   ],
   "source": [
    "adf_test(df_diff['wheat_export'])\n",
    "adf_test(df_diff['wheat_consumption'])\n",
    "adf_test(df_diff['income_level'])"
   ]
  },
  {
   "cell_type": "markdown",
   "id": "c1151706",
   "metadata": {},
   "source": [
    "# Fit an SARIMAX model"
   ]
  },
  {
   "cell_type": "code",
   "execution_count": 95,
   "id": "2b1a8379",
   "metadata": {},
   "outputs": [
    {
     "name": "stderr",
     "output_type": "stream",
     "text": [
      "C:\\Users\\Tridev\\anaconda3\\lib\\site-packages\\statsmodels\\tsa\\base\\tsa_model.py:524: ValueWarning: No frequency information was provided, so inferred frequency AS-JAN will be used.\n",
      "  warnings.warn('No frequency information was'\n",
      "C:\\Users\\Tridev\\anaconda3\\lib\\site-packages\\statsmodels\\tsa\\base\\tsa_model.py:524: ValueWarning: No frequency information was provided, so inferred frequency AS-JAN will be used.\n",
      "  warnings.warn('No frequency information was'\n"
     ]
    }
   ],
   "source": [
    "model_consumption = SARIMAX(df['wheat_consumption'], order=(1, 1, 1),\n",
    "                            exog_vars=[df_diff['income_level'], df['population_growth']]).fit()"
   ]
  },
  {
   "cell_type": "code",
   "execution_count": 99,
   "id": "366c4dd6",
   "metadata": {},
   "outputs": [],
   "source": [
    "forecast_export = model_consumption.forecast(steps=2)"
   ]
  },
  {
   "cell_type": "code",
   "execution_count": 100,
   "id": "3b8d1c17",
   "metadata": {},
   "outputs": [
    {
     "data": {
      "text/plain": [
       "2023-01-01    105814.110323\n",
       "2024-01-01    105517.266071\n",
       "Freq: AS-JAN, Name: predicted_mean, dtype: float64"
      ]
     },
     "execution_count": 100,
     "metadata": {},
     "output_type": "execute_result"
    }
   ],
   "source": [
    "forecast_export"
   ]
  },
  {
   "cell_type": "markdown",
   "id": "bb7ed7c2",
   "metadata": {},
   "source": [
    "# Plot the forecasts"
   ]
  },
  {
   "cell_type": "code",
   "execution_count": 101,
   "id": "a65b7b7f",
   "metadata": {},
   "outputs": [
    {
     "data": {
      "image/png": "[encoded data removed]",
      "text/plain": [
       "<Figure size 576x288 with 1 Axes>"
      ]
     },
     "metadata": {
      "needs_background": "light"
     },
     "output_type": "display_data"
    }
   ],
   "source": [
    "fig, axs = plt.subplots(figsize=(8, 4))\n",
    "axs.plot(df['wheat_consumption'], label='Actual')\n",
    "axs.plot(forecast_export, color='r', label='Forecast')\n",
    "axs.set_title('Wheat Consumption Forecast for 2023')\n",
    "axs.legend()\n",
    "plt.tight_layout()\n",
    "plt.show()"
   ]
  },
  {
   "cell_type": "code",
   "execution_count": null,
   "id": "819cb777",
   "metadata": {},
   "outputs": [],
   "source": []
  }
 ],
 "metadata": {
  "kernelspec": {
   "display_name": "Python 3 (ipykernel)",
   "language": "python",
   "name": "python3"
  },
  "language_info": {
   "codemirror_mode": {
    "name": "ipython",
    "version": 3
   },
   "file_extension": ".py",
   "mimetype": "text/x-python",
   "name": "python",
   "nbconvert_exporter": "python",
   "pygments_lexer": "ipython3",
   "version": "3.9.7"
  }
 },
 "nbformat": 4,
 "nbformat_minor": 5
}
